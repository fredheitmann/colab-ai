{
  "nbformat": 4,
  "nbformat_minor": 0,
  "metadata": {
    "colab": {
      "provenance": [],
      "include_colab_link": true
    },
    "kernelspec": {
      "name": "python3",
      "display_name": "Python 3"
    },
    "language_info": {
      "name": "python"
    }
  },
  "cells": [
    {
      "cell_type": "markdown",
      "metadata": {
        "id": "view-in-github",
        "colab_type": "text"
      },
      "source": [
        "<a href=\"https://colab.research.google.com/github/fredheitmann/colab-ai/blob/main/test_ai_heitmann.ipynb\" target=\"_parent\"><img src=\"https://colab.research.google.com/assets/colab-badge.svg\" alt=\"Open In Colab\"/></a>"
      ]
    },
    {
      "cell_type": "code",
      "execution_count": 1,
      "metadata": {
        "colab": {
          "base_uri": "https://localhost:8080/"
        },
        "id": "dOq6dqlXqSfN",
        "outputId": "20e9c341-d107-4256-b752-1e78917d95c2"
      },
      "outputs": [
        {
          "output_type": "stream",
          "name": "stdout",
          "text": [
            "hello\n"
          ]
        }
      ],
      "source": [
        "print(\"hello\")"
      ]
    },
    {
      "cell_type": "markdown",
      "source": [
        "teste de edição"
      ],
      "metadata": {
        "id": "FDNOxVu-rA1d"
      }
    },
    {
      "cell_type": "code",
      "source": [
        "# prompt: crie uma matriz 3x3 de numeros aleatorios 0 e 1 e print a matriz\n",
        "\n",
        "import numpy as np\n",
        "\n",
        "# Cria uma matriz 3x3 com números aleatórios 0 ou 1\n",
        "matrix = np.random.randint(0, 2, size=(3, 3))\n",
        "\n",
        "# Imprime a matriz\n",
        "matrix"
      ],
      "metadata": {
        "id": "mVKfTSYcrQCJ"
      },
      "execution_count": null,
      "outputs": []
    }
  ]
}